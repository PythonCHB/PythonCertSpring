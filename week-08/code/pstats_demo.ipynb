{
 "metadata": {
  "name": "pstats_demo"
 },
 "nbformat": 3,
 "nbformat_minor": 0,
 "worksheets": [
  {
   "cells": [
    {
     "cell_type": "markdown",
     "metadata": {},
     "source": [
      "# Pstats example:\n",
      "\n",
      "first build the profile data with:\n",
      "\n",
      "$ python -m cProfile -o profile_dump profile_example.py\n"
     ]
    },
    {
     "cell_type": "code",
     "collapsed": false,
     "input": [
      "import pstats\n"
     ],
     "language": "python",
     "metadata": {},
     "outputs": [],
     "prompt_number": 1
    },
    {
     "cell_type": "code",
     "collapsed": false,
     "input": [
      "p = pstats.Stats(\"profile_dump\")\n"
     ],
     "language": "python",
     "metadata": {},
     "outputs": [],
     "prompt_number": 2
    },
    {
     "cell_type": "code",
     "collapsed": false,
     "input": [
      "p.print_stats()"
     ],
     "language": "python",
     "metadata": {},
     "outputs": [
      {
       "output_type": "stream",
       "stream": "stdout",
       "text": [
        "Tue May 14 17:42:50 2013    profile_dump\n",
        "\n",
        "         51403 function calls in 0.028 seconds\n",
        "\n",
        "   Random listing order was used\n",
        "\n",
        "   ncalls  tottime  percall  cumtime  percall filename:lineno(function)\n",
        "    51200    0.005    0.000    0.005    0.000 {method 'append' of 'list' objects}\n",
        "        1    0.000    0.000    0.028    0.028 profile_example.py:9(<module>)\n",
        "        1    0.001    0.001    0.028    0.028 profile_example.py:28(main)\n",
        "      100    0.020    0.000    0.024    0.000 profile_example.py:11(odd_numbers)\n",
        "      100    0.003    0.000    0.028    0.000 profile_example.py:19(sum_odd_numbers)\n",
        "        1    0.000    0.000    0.000    0.000 {method 'disable' of '_lsprof.Profiler' objects}\n",
        "\n",
        "\n"
       ]
      },
      {
       "output_type": "pyout",
       "prompt_number": 4,
       "text": [
        "<pstats.Stats instance at 0x1c50300>"
       ]
      }
     ],
     "prompt_number": 4
    },
    {
     "cell_type": "code",
     "collapsed": false,
     "input": [
      "p.sort_stats('time').print_stats()"
     ],
     "language": "python",
     "metadata": {},
     "outputs": [
      {
       "output_type": "stream",
       "stream": "stdout",
       "text": [
        "Tue May 14 17:42:50 2013    profile_dump\n",
        "\n",
        "         51403 function calls in 0.028 seconds\n",
        "\n",
        "   Ordered by: internal time\n",
        "\n",
        "   ncalls  tottime  percall  cumtime  percall filename:lineno(function)\n",
        "      100    0.020    0.000    0.024    0.000 profile_example.py:11(odd_numbers)\n",
        "    51200    0.005    0.000    0.005    0.000 {method 'append' of 'list' objects}\n",
        "      100    0.003    0.000    0.028    0.000 profile_example.py:19(sum_odd_numbers)\n",
        "        1    0.001    0.001    0.028    0.028 profile_example.py:28(main)\n",
        "        1    0.000    0.000    0.028    0.028 profile_example.py:9(<module>)\n",
        "        1    0.000    0.000    0.000    0.000 {method 'disable' of '_lsprof.Profiler' objects}\n",
        "\n",
        "\n"
       ]
      },
      {
       "output_type": "pyout",
       "prompt_number": 6,
       "text": [
        "<pstats.Stats instance at 0x1c50300>"
       ]
      }
     ],
     "prompt_number": 6
    },
    {
     "cell_type": "code",
     "collapsed": false,
     "input": [],
     "language": "python",
     "metadata": {},
     "outputs": []
    }
   ],
   "metadata": {}
  }
 ]
}