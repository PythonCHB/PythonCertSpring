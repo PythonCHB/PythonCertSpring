{
 "metadata": {
  "name": "for_loop_test"
 },
 "nbformat": 3,
 "nbformat_minor": 0,
 "worksheets": [
  {
   "cells": [
    {
     "cell_type": "markdown",
     "metadata": {},
     "source": [
      "# Is a for loop really slow?\n",
      "(from a LinkedIn discussion)\n",
      "\n",
      "## task: convert list of tuples to a dict:\n"
     ]
    },
    {
     "cell_type": "code",
     "collapsed": false,
     "input": [
      "# some data\n",
      "# generate some large test data (million entries) \n",
      "raw_data = [('a%i'%i, 'value%i'%i) for i in xrange(1000000)] "
     ],
     "language": "python",
     "metadata": {},
     "outputs": [],
     "prompt_number": 1
    },
    {
     "cell_type": "markdown",
     "metadata": {},
     "source": [
      "### for loop method"
     ]
    },
    {
     "cell_type": "code",
     "collapsed": false,
     "input": [
      "def for_loop(raw_data): \n",
      "    d = {} \n",
      "    for key, val in raw_data: \n",
      "        d[key] = val \n",
      "    return d "
     ],
     "language": "python",
     "metadata": {},
     "outputs": [],
     "prompt_number": 2
    },
    {
     "cell_type": "markdown",
     "metadata": {},
     "source": [
      "### dict constructor"
     ]
    },
    {
     "cell_type": "code",
     "collapsed": false,
     "input": [
      "def dict_const(raw_data): \n",
      "    d = dict(raw_data) \n",
      "    return d "
     ],
     "language": "python",
     "metadata": {},
     "outputs": [],
     "prompt_number": 3
    },
    {
     "cell_type": "markdown",
     "metadata": {},
     "source": [
      "### map and lambda"
     ]
    },
    {
     "cell_type": "code",
     "collapsed": false,
     "input": [
      "def map_lambda(raw_data): \n",
      "    d = {} \n",
      "    map(lambda each: d.setdefault(each[0], each[1]), raw_data) \n",
      "    return d "
     ],
     "language": "python",
     "metadata": {},
     "outputs": [],
     "prompt_number": 4
    },
    {
     "cell_type": "markdown",
     "metadata": {},
     "source": [
      "### list comprehension"
     ]
    },
    {
     "cell_type": "code",
     "collapsed": false,
     "input": [
      "def list_comp(raw_data): \n",
      "    d = {} \n",
      "    [d.setdefault(key, val) for (key, val) in raw_data] \n",
      "    return d "
     ],
     "language": "python",
     "metadata": {},
     "outputs": [],
     "prompt_number": 5
    },
    {
     "cell_type": "markdown",
     "metadata": {},
     "source": [
      "## and the timings:"
     ]
    },
    {
     "cell_type": "code",
     "collapsed": false,
     "input": [
      "timeit for_loop(raw_data)"
     ],
     "language": "python",
     "metadata": {},
     "outputs": [
      {
       "output_type": "stream",
       "stream": "stdout",
       "text": [
        "1 loops, best of 3: 291 ms per loop\n"
       ]
      }
     ],
     "prompt_number": 7
    },
    {
     "cell_type": "code",
     "collapsed": false,
     "input": [
      "timeit dict_const(raw_data)"
     ],
     "language": "python",
     "metadata": {},
     "outputs": [
      {
       "output_type": "stream",
       "stream": "stdout",
       "text": [
        "1 loops, best of 3: 225 ms per loop\n"
       ]
      }
     ],
     "prompt_number": 8
    },
    {
     "cell_type": "code",
     "collapsed": false,
     "input": [
      "timeit map_lambda(raw_data)"
     ],
     "language": "python",
     "metadata": {},
     "outputs": [
      {
       "output_type": "stream",
       "stream": "stdout",
       "text": [
        "1 loops, best of 3: 740 ms per loop\n"
       ]
      }
     ],
     "prompt_number": 9
    },
    {
     "cell_type": "code",
     "collapsed": false,
     "input": [
      "timeit list_comp(raw_data)"
     ],
     "language": "python",
     "metadata": {},
     "outputs": [
      {
       "output_type": "stream",
       "stream": "stdout",
       "text": [
        "1 loops, best of 3: 488 ms per loop\n"
       ]
      }
     ],
     "prompt_number": 10
    },
    {
     "cell_type": "markdown",
     "metadata": {},
     "source": [
      "## Lessons:\n",
      "\n",
      "The dict constructor does it all inside the python interpreter, and doesn't need to do much extra -- hash the key, and just toss in the pointer to the value -- the least amount of work possible. \n",
      "\n",
      "The for loop doesn't generate an extra list it doesn't need, so really as little as possible but with the extra indexing operation over dict() \n",
      "\n",
      "The list comp is similar to for loop, but also creates an unneeded, and then tossed out, extra list. \n",
      "\n",
      "map+lambda requires an extra function call (the lambda) each time through the loop. \n",
      "\n",
      "### Conclusions: \n",
      "\n",
      "- use built-in constructors when possible. \n",
      "- for loops are not slow -- it's what you do in them that may be slow \n",
      "- list comps are used for clean, compact code, not performance \n",
      "- map has little advantage over list_comps, and it's less flexible, as it only does a function of one variable. \n"
     ]
    },
    {
     "cell_type": "code",
     "collapsed": false,
     "input": [],
     "language": "python",
     "metadata": {},
     "outputs": []
    }
   ],
   "metadata": {}
  }
 ]
}