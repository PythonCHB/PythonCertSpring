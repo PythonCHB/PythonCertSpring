{
 "metadata": {
  "name": "basicmath"
 },
 "nbformat": 3,
 "nbformat_minor": 0,
 "worksheets": [
  {
   "cells": [
    {
     "cell_type": "code",
     "collapsed": false,
     "input": [
      "def add(a,b):\n",
      "    return a+b"
     ],
     "language": "python",
     "metadata": {},
     "outputs": []
    },
    {
     "cell_type": "code",
     "collapsed": false,
     "input": [
      "add(3,4)"
     ],
     "language": "python",
     "metadata": {},
     "outputs": []
    },
    {
     "cell_type": "markdown",
     "metadata": {},
     "source": [
      "What if we want to log when that function is called?"
     ]
    },
    {
     "cell_type": "code",
     "collapsed": false,
     "input": [
      "def logged_add(a, b):\n",
      "    print '### %s(%r, %r)' % ('add', a, b)\n",
      "    result = add(a, b)\n",
      "    print '### %s(%r, %r) --> %r' % ('add', a, b, result)\n",
      "    return result"
     ],
     "language": "python",
     "metadata": {},
     "outputs": []
    },
    {
     "cell_type": "markdown",
     "metadata": {},
     "source": [
      "could change all calls to this -- blech!\n",
      "\n",
      "so instead write a wrapper:"
     ]
    },
    {
     "cell_type": "code",
     "collapsed": false,
     "input": [
      "def logged(func):\n",
      "    def wrapper(a, b):\n",
      "        print '### %s(%r, %r)' % (func.func_name, a, b)\n",
      "        result = func(a, b)\n",
      "        print '### %s(%r, %r) --> %r' % (func.func_name, a, b, result)\n",
      "        return result\n",
      "    return wrapper"
     ],
     "language": "python",
     "metadata": {},
     "outputs": []
    },
    {
     "cell_type": "markdown",
     "metadata": {},
     "source": [
      "re-define add..."
     ]
    },
    {
     "cell_type": "code",
     "collapsed": false,
     "input": [
      "add = logged(add)"
     ],
     "language": "python",
     "metadata": {},
     "outputs": []
    },
    {
     "cell_type": "code",
     "collapsed": false,
     "input": [
      "add(3,4)"
     ],
     "language": "python",
     "metadata": {},
     "outputs": []
    },
    {
     "cell_type": "markdown",
     "metadata": {},
     "source": [
      "And use it for other functions, too:"
     ]
    },
    {
     "cell_type": "code",
     "collapsed": false,
     "input": [
      "def subtract(a, b):\n",
      "    \"\"\"subtract() subtracts two things\"\"\"\n",
      "    return a - b\n",
      "subtract = logged(subtract)"
     ],
     "language": "python",
     "metadata": {},
     "outputs": []
    },
    {
     "cell_type": "code",
     "collapsed": false,
     "input": [
      "subtract(7,4)"
     ],
     "language": "python",
     "metadata": {},
     "outputs": []
    },
    {
     "cell_type": "markdown",
     "metadata": {},
     "source": [
      "Make it more general -- to take any number of arguments:"
     ]
    },
    {
     "cell_type": "code",
     "collapsed": false,
     "input": [
      "def logged(func):\n",
      "    def wrapper(*args):\n",
      "        print '### %s(%s)' % (func.func_name, args)\n",
      "        result = func(*args)\n",
      "        print '### %s(%s) --> %r' % (func.func_name, args, result)\n",
      "        return result\n",
      "    return wrapper"
     ],
     "language": "python",
     "metadata": {},
     "outputs": []
    },
    {
     "cell_type": "markdown",
     "metadata": {},
     "source": [
      "A function with one argument:"
     ]
    },
    {
     "cell_type": "code",
     "collapsed": false,
     "input": [
      "def even(a):\n",
      "    \"\"\"even() returns True if the value is even\"\"\"\n",
      "    return a % 2 == 0\n",
      "even = logged(even)"
     ],
     "language": "python",
     "metadata": {},
     "outputs": []
    },
    {
     "cell_type": "code",
     "collapsed": false,
     "input": [
      "even(3)"
     ],
     "language": "python",
     "metadata": {},
     "outputs": []
    },
    {
     "cell_type": "code",
     "collapsed": false,
     "input": [
      "even(4)"
     ],
     "language": "python",
     "metadata": {},
     "outputs": []
    }
   ],
   "metadata": {}
  }
 ]
}