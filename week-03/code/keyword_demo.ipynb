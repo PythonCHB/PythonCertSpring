{
 "metadata": {
  "name": "keyword_demo"
 },
 "nbformat": 3,
 "nbformat_minor": 0,
 "worksheets": [
  {
   "cells": [
    {
     "cell_type": "markdown",
     "metadata": {},
     "source": [
      "## keyword argument scope demo"
     ]
    },
    {
     "cell_type": "markdown",
     "metadata": {},
     "source": [
      "Define a variable in the global scope:"
     ]
    },
    {
     "cell_type": "code",
     "collapsed": false,
     "input": [
      "a = 5"
     ],
     "language": "python",
     "metadata": {},
     "outputs": []
    },
    {
     "cell_type": "markdown",
     "metadata": {},
     "source": [
      "Use that variable in a function:"
     ]
    },
    {
     "cell_type": "code",
     "collapsed": false,
     "input": [
      "def add(x):\n",
      "    return x + a"
     ],
     "language": "python",
     "metadata": {},
     "outputs": []
    },
    {
     "cell_type": "markdown",
     "metadata": {},
     "source": [
      "call the function -- a is used:"
     ]
    },
    {
     "cell_type": "code",
     "collapsed": false,
     "input": [
      "add(3)"
     ],
     "language": "python",
     "metadata": {},
     "outputs": []
    },
    {
     "cell_type": "markdown",
     "metadata": {},
     "source": [
      "change a"
     ]
    },
    {
     "cell_type": "code",
     "collapsed": false,
     "input": [
      "a = 12"
     ],
     "language": "python",
     "metadata": {},
     "outputs": []
    },
    {
     "cell_type": "code",
     "collapsed": false,
     "input": [
      "add(3)"
     ],
     "language": "python",
     "metadata": {},
     "outputs": []
    },
    {
     "cell_type": "markdown",
     "metadata": {},
     "source": [
      "The new a is used"
     ]
    },
    {
     "cell_type": "markdown",
     "metadata": {},
     "source": [
      "But what if I don't want the results to depend on what a gets re-set to.\n",
      "\n",
      "But I don't want a constant, either...\n",
      "\n",
      "Set a keyword argument:"
     ]
    },
    {
     "cell_type": "code",
     "collapsed": false,
     "input": [
      "def add(x, a=a):\n",
      "    return x + a\n",
      "\n",
      "# try it:\n",
      "add(3)"
     ],
     "language": "python",
     "metadata": {},
     "outputs": []
    },
    {
     "cell_type": "markdown",
     "metadata": {},
     "source": [
      "it used the last value.\n",
      "\n",
      "reset a"
     ]
    },
    {
     "cell_type": "code",
     "collapsed": false,
     "input": [
      "a = 100\n",
      "add(3)"
     ],
     "language": "python",
     "metadata": {},
     "outputs": []
    },
    {
     "cell_type": "markdown",
     "metadata": {},
     "source": [
      "Still used the original value!"
     ]
    },
    {
     "cell_type": "markdown",
     "metadata": {},
     "source": [
      "## Lesson:\n",
      "\n",
      "The keyword arguments are evaluted _when the function is defined, NOT when it is called."
     ]
    }
   ],
   "metadata": {}
  }
 ]
}