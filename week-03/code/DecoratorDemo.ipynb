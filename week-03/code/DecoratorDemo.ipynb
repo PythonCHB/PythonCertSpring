{
 "metadata": {
  "name": "DecoratorDemo"
 },
 "nbformat": 3,
 "nbformat_minor": 0,
 "worksheets": [
  {
   "cells": [
    {
     "cell_type": "markdown",
     "metadata": {},
     "source": [
      "Demostration of Decorators:\n",
      "\n",
      "    (Adapted from Jon Jacky's Intro to Python class)\n",
      "\n",
      "Creating a function in a function...."
     ]
    },
    {
     "cell_type": "code",
     "collapsed": false,
     "input": [
      "def addn(n):\n",
      "    def adder(i):\n",
      "        return i + n\n",
      "    return adder"
     ],
     "language": "python",
     "metadata": {},
     "outputs": []
    },
    {
     "cell_type": "markdown",
     "metadata": {},
     "source": [
      "NOTE: you oculd use lambda for something as simple as this..."
     ]
    },
    {
     "cell_type": "code",
     "collapsed": false,
     "input": [
      "add2 = addn(2)"
     ],
     "language": "python",
     "metadata": {},
     "outputs": []
    },
    {
     "cell_type": "code",
     "collapsed": false,
     "input": [
      "add2 (1)"
     ],
     "language": "python",
     "metadata": {},
     "outputs": []
    },
    {
     "cell_type": "code",
     "collapsed": false,
     "input": [
      "add3 = addn(3)"
     ],
     "language": "python",
     "metadata": {},
     "outputs": []
    },
    {
     "cell_type": "code",
     "collapsed": false,
     "input": [
      "add3(1)"
     ],
     "language": "python",
     "metadata": {},
     "outputs": []
    },
    {
     "cell_type": "markdown",
     "metadata": {},
     "source": [
      "A function that takes a function as an argument, and returns a function can be a decorator.\n",
      "\n",
      "It usually creates a function inside its scope..."
     ]
    },
    {
     "cell_type": "markdown",
     "metadata": {},
     "source": [
      "Pass a function as an argument, use that to define the function you return.\n",
      "\n",
      "(first a couple functions to use...)"
     ]
    },
    {
     "cell_type": "code",
     "collapsed": false,
     "input": [
      "def odd(i):\n",
      "    return i%2\n",
      "def even(i):\n",
      "    return not odd(i)"
     ],
     "language": "python",
     "metadata": {},
     "outputs": []
    },
    {
     "cell_type": "markdown",
     "metadata": {},
     "source": [
      "And write a wrapper for them...."
     ]
    },
    {
     "cell_type": "code",
     "collapsed": false,
     "input": [
      "def sieve(f):\n",
      "    def siever(s):\n",
      "        return [x for x in s if f(x)]\n",
      "    return siever"
     ],
     "language": "python",
     "metadata": {},
     "outputs": []
    },
    {
     "cell_type": "markdown",
     "metadata": {},
     "source": [
      "Make a couple of sieves:"
     ]
    },
    {
     "cell_type": "code",
     "collapsed": false,
     "input": [
      "oddsieve = sieve(odd)\n",
      "evensieve = sieve(even)"
     ],
     "language": "python",
     "metadata": {},
     "outputs": []
    },
    {
     "cell_type": "markdown",
     "metadata": {},
     "source": [
      "And try them out:"
     ]
    },
    {
     "cell_type": "code",
     "collapsed": false,
     "input": [
      "s = range(10)\n",
      "s"
     ],
     "language": "python",
     "metadata": {},
     "outputs": []
    },
    {
     "cell_type": "code",
     "collapsed": false,
     "input": [
      "oddsieve(s)"
     ],
     "language": "python",
     "metadata": {},
     "outputs": []
    },
    {
     "cell_type": "code",
     "collapsed": false,
     "input": [
      "evensieve(s)"
     ],
     "language": "python",
     "metadata": {},
     "outputs": []
    },
    {
     "cell_type": "markdown",
     "metadata": {},
     "source": [
      "The decorator operator @ abbreviates the preceding pattern\n",
      "\n",
      "`@f\n",
      "   def g\n",
      "`\n",
      "means\n",
      "\n",
      "`g = f(g)`"
     ]
    },
    {
     "cell_type": "code",
     "collapsed": false,
     "input": [
      "@sieve\n",
      "def osieve(i):\n",
      "    return i % 2\n",
      "\n",
      "@sieve\n",
      "def esieve(i):\n",
      "    return not (i % 2)"
     ],
     "language": "python",
     "metadata": {},
     "outputs": []
    },
    {
     "cell_type": "code",
     "collapsed": false,
     "input": [
      "osieve(s)"
     ],
     "language": "python",
     "metadata": {},
     "outputs": []
    },
    {
     "cell_type": "code",
     "collapsed": false,
     "input": [
      "esieve(s)"
     ],
     "language": "python",
     "metadata": {},
     "outputs": []
    },
    {
     "cell_type": "markdown",
     "metadata": {},
     "source": [
      "A callable class can be used as a function, so \n",
      "you can also use a class as a decorator\n",
      "\n",
      "(classes and objects are callable (via `__init__` and `__call__`))"
     ]
    },
    {
     "cell_type": "code",
     "collapsed": false,
     "input": [
      "class Memoize:\n",
      "    \"\"\"\n",
      "    memoize decorator from avinash.vora\n",
      "    http://avinashv.net/2008/04/python-decorators-syntactic-sugar/\n",
      "    \"\"\"\n",
      "    def __init__(self, function):  # runs when memoize class is called\n",
      "        self.function = function\n",
      "        self.memoized = {}\n",
      "\n",
      "    def __call__(self, *args):  # runs when memoize instance is called\n",
      "        try:\n",
      "            return self.memoized[args]\n",
      "        except KeyError:\n",
      "            self.memoized[args] = self.function(*args)\n",
      "            return self.memoized[args]"
     ],
     "language": "python",
     "metadata": {},
     "outputs": []
    },
    {
     "cell_type": "markdown",
     "metadata": {},
     "source": [
      "To use it -- the nifty decorator syntax:"
     ]
    },
    {
     "cell_type": "code",
     "collapsed": false,
     "input": [
      "@Memoize        # same effect as sum2x = memoize(sum2x)\n",
      "def sum2x(n):\n",
      "    return sum(2 * i for i in xrange(n))  # takes time when n > 10 million"
     ],
     "language": "python",
     "metadata": {},
     "outputs": []
    },
    {
     "cell_type": "markdown",
     "metadata": {},
     "source": [
      "call it:"
     ]
    },
    {
     "cell_type": "code",
     "collapsed": false,
     "input": [
      "sum2x(10)"
     ],
     "language": "python",
     "metadata": {},
     "outputs": []
    },
    {
     "cell_type": "code",
     "collapsed": false,
     "input": [
      "sum2x(10)"
     ],
     "language": "python",
     "metadata": {},
     "outputs": []
    },
    {
     "cell_type": "markdown",
     "metadata": {},
     "source": [
      "But slow if you call it with a big number:"
     ]
    },
    {
     "cell_type": "code",
     "collapsed": false,
     "input": [
      "import time\n",
      "start = time.clock()\n",
      "sum2x(10000000)\n",
      "print \"it took %f seconds to run\"%(time.clock() - start)"
     ],
     "language": "python",
     "metadata": {},
     "outputs": []
    },
    {
     "cell_type": "markdown",
     "metadata": {},
     "source": [
      "But the second time..."
     ]
    },
    {
     "cell_type": "code",
     "collapsed": false,
     "input": [
      "import time\n",
      "start = time.clock()\n",
      "sum2x(10000000)\n",
      "print \"it took %f seconds to run\"%(time.clock() - start)"
     ],
     "language": "python",
     "metadata": {},
     "outputs": []
    },
    {
     "cell_type": "markdown",
     "metadata": {},
     "source": [
      "Quiz time: what is sum2x ?"
     ]
    },
    {
     "cell_type": "code",
     "collapsed": false,
     "input": [
      "repr(sum2x)"
     ],
     "language": "python",
     "metadata": {},
     "outputs": []
    }
   ],
   "metadata": {}
  }
 ]
}