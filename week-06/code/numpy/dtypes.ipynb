{
 "metadata": {
  "name": "dtypes"
 },
 "nbformat": 3,
 "nbformat_minor": 0,
 "worksheets": [
  {
   "cells": [
    {
     "cell_type": "code",
     "collapsed": false,
     "input": [
      "# data types\n",
      "from start import *"
     ],
     "language": "python",
     "metadata": {},
     "outputs": []
    },
    {
     "cell_type": "code",
     "collapsed": false,
     "input": [
      "# a custom dtype:\n",
      "dt = np.dtype([('first_name', np.str_, 16),\n",
      "               ('last_name',  np.str_, 24),\n",
      "               ('grades',     np.float64, (2,)),\n",
      "               ])"
     ],
     "language": "python",
     "metadata": {},
     "outputs": []
    },
    {
     "cell_type": "code",
     "collapsed": false,
     "input": [
      "# create an array of this type:\n",
      "\n",
      "a = np.empty((3,), dtype=dt)"
     ],
     "language": "python",
     "metadata": {},
     "outputs": []
    },
    {
     "cell_type": "code",
     "collapsed": false,
     "input": [
      "#Fill it up:\n",
      " \n",
      "a[0] = ('Fred', 'Jones', (92.3, 86.2))    \n",
      "a[1] = ('Bob', 'Smith', (85.1, 88.4))    \n",
      "a[2] = ('George', 'Roberts', (76.3, 91.5))    \n",
      "\n",
      "print_info(a)"
     ],
     "language": "python",
     "metadata": {},
     "outputs": []
    },
    {
     "cell_type": "code",
     "collapsed": false,
     "input": [
      "# extract a field:\n",
      "\n",
      "print a['first_name']"
     ],
     "language": "python",
     "metadata": {},
     "outputs": []
    },
    {
     "cell_type": "code",
     "collapsed": false,
     "input": [
      "# do some math on a field:\n",
      "\n",
      "grades = a['grades']\n",
      "print grades"
     ],
     "language": "python",
     "metadata": {},
     "outputs": []
    },
    {
     "cell_type": "code",
     "collapsed": false,
     "input": [
      "# do some math:\n",
      "print grades.mean()"
     ],
     "language": "python",
     "metadata": {},
     "outputs": []
    },
    {
     "cell_type": "code",
     "collapsed": false,
     "input": [
      "# still a view on the data\n",
      "\n",
      "print_info(grades) # note the strides!"
     ],
     "language": "python",
     "metadata": {},
     "outputs": []
    }
   ],
   "metadata": {}
  }
 ]
}