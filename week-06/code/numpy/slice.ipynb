{
 "metadata": {
  "name": "slice"
 },
 "nbformat": 3,
 "nbformat_minor": 0,
 "worksheets": [
  {
   "cells": [
    {
     "cell_type": "code",
     "collapsed": false,
     "input": [
      "import numpy as np\n",
      "from start import *"
     ],
     "language": "python",
     "metadata": {},
     "outputs": [],
     "prompt_number": 1
    },
    {
     "cell_type": "code",
     "collapsed": false,
     "input": [
      "# create an array:\n",
      "a = np.arange(12)\n",
      "print_info(a)"
     ],
     "language": "python",
     "metadata": {},
     "outputs": [
      {
       "output_type": "stream",
       "stream": "stdout",
       "text": [
        "arr :\n",
        "[ 0  1  2  3  4  5  6  7  8  9 10 11]\n",
        "arr.shape: (12,)\n",
        "arr.dtype: int32\n",
        "arr.itemsize 4\n",
        "arr.ndim: 1\n",
        "arr.strides (4,)\n",
        "arr.flags:\n",
        "  C_CONTIGUOUS : True\n",
        "  F_CONTIGUOUS : True\n",
        "  OWNDATA : True\n",
        "  WRITEABLE : True\n",
        "  ALIGNED : True\n",
        "  UPDATEIFCOPY : False\n"
       ]
      }
     ],
     "prompt_number": 2
    },
    {
     "cell_type": "code",
     "collapsed": false,
     "input": [
      "# A slice is a view:\n",
      "b = a[3:6]\n",
      "print b\n",
      "print_info(b, 'b')"
     ],
     "language": "python",
     "metadata": {},
     "outputs": [
      {
       "output_type": "stream",
       "stream": "stdout",
       "text": [
        "[3 4 5]\n",
        "b :\n",
        "[3 4 5]\n",
        "b.shape: (3,)\n",
        "b.dtype: int32\n",
        "b.itemsize 4\n",
        "b.ndim: 1\n",
        "b.strides (4,)\n",
        "b.flags:\n",
        "  C_CONTIGUOUS : True\n",
        "  F_CONTIGUOUS : True\n",
        "  OWNDATA : False\n",
        "  WRITEABLE : True\n",
        "  ALIGNED : True\n",
        "  UPDATEIFCOPY : False\n"
       ]
      }
     ],
     "prompt_number": 3
    },
    {
     "cell_type": "code",
     "collapsed": false,
     "input": [
      "# note \"OWNDATA\" flag -- b does not \"own\" its data.\n",
      "\n",
      "b[0] = 44\n",
      "\n",
      "print b\n",
      "print a\n",
      "\n",
      "# a has changed!"
     ],
     "language": "python",
     "metadata": {},
     "outputs": [
      {
       "output_type": "stream",
       "stream": "stdout",
       "text": [
        "[44  4  5]\n",
        "[ 0  1  2 44  4  5  6  7  8  9 10 11]\n"
       ]
      }
     ],
     "prompt_number": 4
    },
    {
     "cell_type": "code",
     "collapsed": false,
     "input": [
      "# what about slicing higher-dim arrays:\n",
      "a = np.arange(12).reshape(3,4)\n",
      "print_info(a,'a')"
     ],
     "language": "python",
     "metadata": {},
     "outputs": [
      {
       "output_type": "stream",
       "stream": "stdout",
       "text": [
        "a :\n",
        "[[ 0  1  2  3]\n",
        " [ 4  5  6  7]\n",
        " [ 8  9 10 11]]\n",
        "a.shape: (3, 4)\n",
        "a.dtype: int32\n",
        "a.itemsize 4\n",
        "a.ndim: 2\n",
        "a.strides (16, 4)\n",
        "a.flags:\n",
        "  C_CONTIGUOUS : True\n",
        "  F_CONTIGUOUS : False\n",
        "  OWNDATA : False\n",
        "  WRITEABLE : True\n",
        "  ALIGNED : True\n",
        "  UPDATEIFCOPY : False\n"
       ]
      }
     ],
     "prompt_number": 5
    },
    {
     "cell_type": "code",
     "collapsed": false,
     "input": [
      "# \"row\" slice:\n",
      "b = a[1,:]\n",
      "print_info(b,'b')"
     ],
     "language": "python",
     "metadata": {},
     "outputs": [
      {
       "output_type": "stream",
       "stream": "stdout",
       "text": [
        "b :\n",
        "[4 5 6 7]\n",
        "b.shape: (4,)\n",
        "b.dtype: int32\n",
        "b.itemsize 4\n",
        "b.ndim: 1\n",
        "b.strides (4,)\n",
        "b.flags:\n",
        "  C_CONTIGUOUS : True\n",
        "  F_CONTIGUOUS : True\n",
        "  OWNDATA : False\n",
        "  WRITEABLE : True\n",
        "  ALIGNED : True\n",
        "  UPDATEIFCOPY : False\n"
       ]
      }
     ],
     "prompt_number": 6
    },
    {
     "cell_type": "code",
     "collapsed": false,
     "input": [
      "# \"column\" slice:\n",
      "b = a[:,1]\n",
      "print_info(b,'b')"
     ],
     "language": "python",
     "metadata": {},
     "outputs": [
      {
       "output_type": "stream",
       "stream": "stdout",
       "text": [
        "b :\n",
        "[1 5 9]\n",
        "b.shape: (3,)\n",
        "b.dtype: int32\n",
        "b.itemsize 4\n",
        "b.ndim: 1\n",
        "b.strides (16,)\n",
        "b.flags:\n",
        "  C_CONTIGUOUS : False\n",
        "  F_CONTIGUOUS : False\n",
        "  OWNDATA : False\n",
        "  WRITEABLE : True\n",
        "  ALIGNED : True\n",
        "  UPDATEIFCOPY : False\n"
       ]
      }
     ],
     "prompt_number": 7
    },
    {
     "cell_type": "code",
     "collapsed": false,
     "input": [],
     "language": "python",
     "metadata": {},
     "outputs": []
    }
   ],
   "metadata": {}
  }
 ]
}