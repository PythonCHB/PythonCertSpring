{
 "metadata": {
  "name": ""
 },
 "nbformat": 3,
 "nbformat_minor": 0,
 "worksheets": [
  {
   "cells": [
    {
     "cell_type": "markdown",
     "metadata": {},
     "source": [
      "## some test code to teach me something about how super() works\n"
     ]
    },
    {
     "cell_type": "code",
     "collapsed": false,
     "input": [
      "# the \"old way\":\n",
      "\n",
      "class A(object):\n",
      "    def this(self):\n",
      "        print \"in A.this\"\n",
      "\n",
      "class B(object):\n",
      "    def this(self):\n",
      "        print \"in B.this\"\n",
      "\n",
      "class C(A,B):\n",
      "    def this(self):\n",
      "        print \"in C.this\"\n",
      "        A.this(self)\n",
      "        B.this(self)"
     ],
     "language": "python",
     "metadata": {},
     "outputs": [],
     "prompt_number": 1
    },
    {
     "cell_type": "code",
     "collapsed": false,
     "input": [
      "print \"running traditional way\"\n",
      "c = C()\n",
      "c.this()"
     ],
     "language": "python",
     "metadata": {},
     "outputs": [
      {
       "output_type": "stream",
       "stream": "stdout",
       "text": [
        "running traditional way\n",
        "in C.this\n",
        "in A.this\n",
        "in B.this\n"
       ]
      }
     ],
     "prompt_number": 2
    },
    {
     "cell_type": "markdown",
     "metadata": {},
     "source": [
      "#### using super in just C:"
     ]
    },
    {
     "cell_type": "code",
     "collapsed": false,
     "input": [
      "class A(object):\n",
      "    def this(self):\n",
      "        print \"in A.this\"\n",
      "\n",
      "class B(object):\n",
      "    def this(self):\n",
      "        print \"in B.this\"\n",
      "\n",
      "class C(A,B):\n",
      "    def this(self):\n",
      "        print \"in C.this\"\n",
      "        super(C, self).this()"
     ],
     "language": "python",
     "metadata": {},
     "outputs": [],
     "prompt_number": 3
    },
    {
     "cell_type": "code",
     "collapsed": false,
     "input": [
      "c = C()\n",
      "c.this()"
     ],
     "language": "python",
     "metadata": {},
     "outputs": [
      {
       "output_type": "stream",
       "stream": "stdout",
       "text": [
        "in C.this\n",
        "in A.this\n"
       ]
      }
     ],
     "prompt_number": 4
    },
    {
     "cell_type": "markdown",
     "metadata": {},
     "source": [
      "### using super everywhere:"
     ]
    },
    {
     "cell_type": "code",
     "collapsed": false,
     "input": [
      "class Base(object):\n",
      "    def this(self):\n",
      "        pass # just so there is a base that has the method\n",
      "\n",
      "class A(Base):\n",
      "    def this(self):\n",
      "        print \"in A.this\"\n",
      "        super(A, self).this()\n",
      "\n",
      "class B(Base):\n",
      "    def this(self):\n",
      "        print \"in B.this\"\n",
      "        super(B, self).this()\n",
      "class C(A,B):\n",
      "    def this(self):\n",
      "        print \"in C.this\"\n",
      "        super(C, self).this()\n"
     ],
     "language": "python",
     "metadata": {},
     "outputs": [],
     "prompt_number": 5
    },
    {
     "cell_type": "code",
     "collapsed": false,
     "input": [
      "c = C()\n",
      "c.this()"
     ],
     "language": "python",
     "metadata": {},
     "outputs": [
      {
       "output_type": "stream",
       "stream": "stdout",
       "text": [
        "in C.this\n",
        "in A.this\n",
        "in B.this\n"
       ]
      }
     ],
     "prompt_number": 6
    },
    {
     "cell_type": "code",
     "collapsed": false,
     "input": [
      "# using super everywhere:\n",
      "\n",
      "class Base(object):\n",
      "    def this(self):\n",
      "        pass # just so there is a base that has the method\n",
      "\n",
      "class A(Base):\n",
      "    def this(self):\n",
      "        print \"in A.this\"\n",
      "        s = super(A, self)\n",
      "        print s\n",
      "        print s.this\n",
      "        s.this()\n",
      "\n",
      "class B(Base):\n",
      "    def this(self):\n",
      "        print \"in B.this\"\n",
      "        s = super(B, self)\n",
      "        print s\n",
      "        print s.this\n",
      "        s.this()\n",
      "\n",
      "class C(A,B):\n",
      "    def this(self):\n",
      "        print \"in C.this\"\n",
      "        A.this(self)\n",
      "        B.this(self)"
     ],
     "language": "python",
     "metadata": {},
     "outputs": [],
     "prompt_number": 7
    },
    {
     "cell_type": "code",
     "collapsed": false,
     "input": [
      "print \"using super everywhere but C\"\n",
      "c = C()\n",
      "c.this()"
     ],
     "language": "python",
     "metadata": {},
     "outputs": [
      {
       "output_type": "stream",
       "stream": "stdout",
       "text": [
        "using super everywhere but C\n",
        "in C.this\n",
        "in A.this\n",
        "<super: <class 'A'>, <C object>>\n",
        "<bound method C.this of <__main__.C object at 0x102335810>>\n",
        "in B.this\n",
        "<super: <class 'B'>, <C object>>\n",
        "<bound method C.this of <__main__.C object at 0x102335810>>\n",
        "in B.this\n",
        "<super: <class 'B'>, <C object>>\n",
        "<bound method C.this of <__main__.C object at 0x102335810>>\n"
       ]
      }
     ],
     "prompt_number": 8
    },
    {
     "cell_type": "code",
     "collapsed": false,
     "input": [],
     "language": "python",
     "metadata": {},
     "outputs": [],
     "prompt_number": 8
    }
   ],
   "metadata": {}
  }
 ]
}